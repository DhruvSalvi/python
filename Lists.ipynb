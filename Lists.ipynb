{
  "nbformat": 4,
  "nbformat_minor": 0,
  "metadata": {
    "colab": {
      "name": "Untitled1.ipynb",
      "provenance": [],
      "authorship_tag": "ABX9TyPwGgHHZMw9nDjYL0e0ua9x",
      "include_colab_link": true
    },
    "kernelspec": {
      "name": "python3",
      "display_name": "Python 3"
    },
    "language_info": {
      "name": "python"
    }
  },
  "cells": [
    {
      "cell_type": "markdown",
      "metadata": {
        "id": "view-in-github",
        "colab_type": "text"
      },
      "source": [
        "<a href=\"https://colab.research.google.com/github/DhruvSalvi/python/blob/main/Lists.ipynb\" target=\"_parent\"><img src=\"https://colab.research.google.com/assets/colab-badge.svg\" alt=\"Open In Colab\"/></a>"
      ]
    },
    {
      "cell_type": "code",
      "metadata": {
        "colab": {
          "base_uri": "https://localhost:8080/"
        },
        "id": "6VPS_rIJ2aID",
        "outputId": "70a67909-a7f7-425b-af4b-1dd70eb42788"
      },
      "source": [
        "mon=[2200,2350,2600,2130,2190]\n",
        "print(\"Diff is:\",mon[1]-mon[0])\n",
        "print(\"Diff is:\",mon[0]+mon[1]+mon[2])\n",
        "\"2000\" in mon\n",
        "mon.append(\"1980\")\n",
        "mon[3]=mon[3]-200\n",
        "mon"
      ],
      "execution_count": 59,
      "outputs": [
        {
          "output_type": "stream",
          "text": [
            "Diff is: 150\n",
            "Diff is: 7150\n"
          ],
          "name": "stdout"
        },
        {
          "output_type": "execute_result",
          "data": {
            "text/plain": [
              "[2200, 2350, 2600, 1930, 2190, '1980']"
            ]
          },
          "metadata": {
            "tags": []
          },
          "execution_count": 59
        }
      ]
    },
    {
      "cell_type": "code",
      "metadata": {
        "colab": {
          "base_uri": "https://localhost:8080/"
        },
        "id": "Y1lDYhAE4Guh",
        "outputId": "23e2c01e-26fb-4a68-e5e0-0c5a1702a64b"
      },
      "source": [
        "heros=['spider man','thor','hulk','iron man','captain america']\n",
        "len(heros)\n",
        "heros.append('black panther')\n",
        "heros.pop()\n",
        "heros.insert(3,'black panther')\n",
        "del heros[1:3]\n",
        "heros.insert(1,\"doctor strange\")\n",
        "heros.sort()\n",
        "heros"
      ],
      "execution_count": 49,
      "outputs": [
        {
          "output_type": "execute_result",
          "data": {
            "text/plain": [
              "['black panther',\n",
              " 'captain america',\n",
              " 'doctor strange',\n",
              " 'iron man',\n",
              " 'spider man']"
            ]
          },
          "metadata": {
            "tags": []
          },
          "execution_count": 49
        }
      ]
    }
  ]
}