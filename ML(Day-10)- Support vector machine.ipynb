{
 "cells": [
  {
   "cell_type": "code",
   "execution_count": 1,
   "metadata": {},
   "outputs": [],
   "source": [
    "import pandas as pd\n",
    "import matplotlib.pyplot as plt\n",
    "%matplotlib inline"
   ]
  },
  {
   "cell_type": "code",
   "execution_count": 5,
   "metadata": {},
   "outputs": [],
   "source": [
    "from sklearn.datasets import load_digits\n",
    "dg = load_digits()"
   ]
  },
  {
   "cell_type": "code",
   "execution_count": 6,
   "metadata": {
    "scrolled": true
   },
   "outputs": [
    {
     "data": {
      "text/plain": [
       "['DESCR', 'data', 'images', 'target', 'target_names']"
      ]
     },
     "execution_count": 6,
     "metadata": {},
     "output_type": "execute_result"
    }
   ],
   "source": [
    "dir(dg)"
   ]
  },
  {
   "cell_type": "code",
   "execution_count": 10,
   "metadata": {},
   "outputs": [],
   "source": [
    "x = dg.data"
   ]
  },
  {
   "cell_type": "code",
   "execution_count": 11,
   "metadata": {},
   "outputs": [],
   "source": [
    "y = dg.target"
   ]
  },
  {
   "cell_type": "code",
   "execution_count": 14,
   "metadata": {},
   "outputs": [],
   "source": [
    "from sklearn.model_selection import train_test_split\n",
    "x_train, x_test, y_train, y_test = train_test_split(x,y, test_size=0.2)"
   ]
  },
  {
   "cell_type": "code",
   "execution_count": 19,
   "metadata": {},
   "outputs": [
    {
     "data": {
      "text/plain": [
       "SVC(C=1.0, break_ties=False, cache_size=200, class_weight=None, coef0=0.0,\n",
       "    decision_function_shape='ovr', degree=3, gamma='scale', kernel='rbf',\n",
       "    max_iter=-1, probability=False, random_state=None, shrinking=True,\n",
       "    tol=0.001, verbose=False)"
      ]
     },
     "execution_count": 19,
     "metadata": {},
     "output_type": "execute_result"
    }
   ],
   "source": [
    "from sklearn.svm import SVC\n",
    "model = SVC()\n",
    "model.fit(x_test, y_test)"
   ]
  },
  {
   "cell_type": "code",
   "execution_count": 20,
   "metadata": {},
   "outputs": [
    {
     "data": {
      "text/plain": [
       "array([9, 5, 2, 8, 4, 4, 6, 3, 2, 5, 2, 9, 0, 9, 6, 5, 7, 9, 2, 6, 4, 9,\n",
       "       6, 4, 3, 7, 7, 2, 0, 8, 0, 1, 3, 2, 0, 6, 4, 4, 0, 1, 1, 1, 0, 8,\n",
       "       0, 9, 3, 4, 8, 8, 1, 5, 7, 1, 3, 5, 9, 6, 6, 5, 5, 6, 8, 1, 3, 8,\n",
       "       9, 4, 4, 5, 0, 7, 7, 0, 2, 0, 1, 8, 0, 5, 3, 0, 9, 1, 5, 6, 6, 3,\n",
       "       9, 2, 1, 0, 6, 4, 2, 0, 7, 5, 4, 0, 0, 3, 3, 5, 5, 4, 4, 2, 8, 3,\n",
       "       1, 3, 2, 0, 2, 4, 9, 8, 0, 2, 4, 3, 1, 3, 5, 4, 5, 1, 7, 0, 4, 3,\n",
       "       3, 6, 3, 7, 6, 2, 5, 2, 6, 4, 6, 7, 3, 9, 8, 6, 0, 1, 3, 6, 7, 5,\n",
       "       6, 4, 5, 6, 2, 3, 3, 5, 3, 7, 4, 6, 4, 2, 9, 4, 5, 7, 7, 6, 8, 4,\n",
       "       9, 3, 1, 1, 1, 3, 4, 1, 9, 9, 0, 3, 5, 9, 2, 0, 5, 2, 7, 3, 4, 4,\n",
       "       0, 4, 2, 6, 2, 9, 2, 8, 6, 8, 1, 0, 5, 1, 9, 4, 2, 5, 2, 5, 5, 1,\n",
       "       5, 6, 2, 1, 5, 5, 6, 3, 4, 2, 3, 7, 9, 2, 7, 9, 7, 4, 2, 1, 3, 6,\n",
       "       4, 5, 8, 5, 1, 1, 5, 7, 3, 8, 4, 5, 6, 3, 8, 9, 3, 8, 5, 5, 4, 3,\n",
       "       1, 3, 9, 8, 6, 3, 7, 6, 8, 9, 5, 6, 0, 5, 4, 4, 7, 6, 2, 8, 2, 2,\n",
       "       1, 1, 0, 0, 0, 7, 1, 3, 6, 6, 8, 5, 7, 8, 2, 2, 9, 4, 2, 9, 3, 1,\n",
       "       0, 6, 3, 4, 6, 0, 3, 5, 9, 5, 1, 1, 7, 7, 8, 3, 9, 3, 0, 0, 1, 6,\n",
       "       6, 6, 7, 9, 4, 2, 5, 3, 6, 6, 4, 5, 3, 7, 1, 4, 6, 3, 0, 0, 7, 1,\n",
       "       6, 6, 8, 2, 5, 7, 3, 4])"
      ]
     },
     "execution_count": 20,
     "metadata": {},
     "output_type": "execute_result"
    }
   ],
   "source": [
    "model.predict(x_test)"
   ]
  },
  {
   "cell_type": "code",
   "execution_count": 22,
   "metadata": {},
   "outputs": [
    {
     "data": {
      "text/plain": [
       "0.9972222222222222"
      ]
     },
     "execution_count": 22,
     "metadata": {},
     "output_type": "execute_result"
    }
   ],
   "source": [
    "model.score(x_test,y_test)"
   ]
  },
  {
   "cell_type": "code",
   "execution_count": 26,
   "metadata": {},
   "outputs": [
    {
     "data": {
      "text/plain": [
       "SVC(C=1.0, break_ties=False, cache_size=200, class_weight=None, coef0=0.0,\n",
       "    decision_function_shape='ovr', degree=3, gamma='scale', kernel='linear',\n",
       "    max_iter=-1, probability=False, random_state=None, shrinking=True,\n",
       "    tol=0.001, verbose=False)"
      ]
     },
     "execution_count": 26,
     "metadata": {},
     "output_type": "execute_result"
    }
   ],
   "source": [
    "model_kernal = SVC(kernel='linear')\n",
    "model_kernal.fit(x_train, y_train)"
   ]
  },
  {
   "cell_type": "code",
   "execution_count": 27,
   "metadata": {},
   "outputs": [
    {
     "data": {
      "text/plain": [
       "0.9916666666666667"
      ]
     },
     "execution_count": 27,
     "metadata": {},
     "output_type": "execute_result"
    }
   ],
   "source": [
    "model_kernal.score(x_test, y_test)"
   ]
  },
  {
   "cell_type": "code",
   "execution_count": 42,
   "metadata": {},
   "outputs": [
    {
     "data": {
      "text/plain": [
       "0.9972222222222222"
      ]
     },
     "execution_count": 42,
     "metadata": {},
     "output_type": "execute_result"
    }
   ],
   "source": [
    "model = SVC(C=10)\n",
    "model.fit(x_train, y_train)\n",
    "model.score(x_test, y_test)"
   ]
  },
  {
   "cell_type": "code",
   "execution_count": 49,
   "metadata": {},
   "outputs": [
    {
     "data": {
      "text/plain": [
       "1.0"
      ]
     },
     "execution_count": 49,
     "metadata": {},
     "output_type": "execute_result"
    }
   ],
   "source": [
    "model = SVC(gamma=0.001)\n",
    "model.fit(x_train, y_train)\n",
    "model.score(x_test, y_test)"
   ]
  }
 ],
 "metadata": {
  "kernelspec": {
   "display_name": "Python 3",
   "language": "python",
   "name": "python3"
  },
  "language_info": {
   "codemirror_mode": {
    "name": "ipython",
    "version": 3
   },
   "file_extension": ".py",
   "mimetype": "text/x-python",
   "name": "python",
   "nbconvert_exporter": "python",
   "pygments_lexer": "ipython3",
   "version": "3.7.6"
  }
 },
 "nbformat": 4,
 "nbformat_minor": 4
}
