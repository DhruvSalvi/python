{
 "cells": [
  {
   "cell_type": "code",
   "execution_count": 22,
   "metadata": {},
   "outputs": [
    {
     "name": "stdout",
     "output_type": "stream",
     "text": [
      "m 108.80980000000001, b 1.5378, cost 5199.1 iteration 0\n",
      "m -11116.963401280002, b -156.86511368, cost 54999553.25783701 iteration 1\n",
      "m 1147031.8796862937, b 16185.61313334205, cost 585403266214.5018 iteration 2\n",
      "m -118337721.89314258, b -1669846.9829425686, cost 6230908470552132.0 iteration 3\n",
      "m 12208753453.769802, b 172276007.2826445, cost 6.632047105162848e+19 iteration 4\n",
      "m -1259561677960.94, b -17773498138.999874, cost 7.059010578147942e+23 iteration 5\n",
      "m 129947387891288.89, b 1833669360752.9932, cost 7.513461462542038e+27 iteration 6\n",
      "m -1.340650792670312e+16, b -189177352610220.16, cost 7.997169365896538e+31 iteration 7\n",
      "m 1.3831324946609695e+18, b 1.9517188598230116e+16, cost 8.512017821037206e+35 iteration 8\n",
      "m -1.4269603301965365e+20, b -2.0135637037046922e+18, cost 9.060011620440694e+39 iteration 9\n"
     ]
    },
    {
     "data": {
      "image/png": "[encoded data removed]",
      "text/plain": [
       "<Figure size 432x288 with 1 Axes>"
      ]
     },
     "metadata": {
      "needs_background": "light"
     },
     "output_type": "display_data"
    }
   ],
   "source": [
    "import numpy as np\n",
    "import matplotlib.pyplot as plt\n",
    "%matplotlib inline\n",
    "\n",
    "def gradient_descent(x,y):\n",
    "    m_curr = b_curr = 0\n",
    "    iterations = 10\n",
    "    n = len(x)\n",
    "    learning_rate = 0.011\n",
    "    plt.scatter(x,y, color='red',marker='+', linewidth='5')\n",
    "    \n",
    "    for i in range(iterations):\n",
    "        yp = m_curr * x + b_curr\n",
    "        plt.plot(x,yp, color='green')\n",
    "        \n",
    "        cost = (1/n) * sum([val**2 for val in (y-yp)])\n",
    "        md = -(2/n) * sum(x*(y-yp))\n",
    "        bm = -(2/n) * sum(y-yp)\n",
    "        \n",
    "        m_curr = m_curr - learning_rate * md\n",
    "        b_curr = b_curr - learning_rate * bm\n",
    "        print(\"m {}, b {}, cost {} iteration {}\".format(m_curr, b_curr, cost, i))\n",
    "\n",
    "\n",
    "x = np.array([92,56,88,70,80,49,65,35,66,67])\n",
    "y = np.array([98,68,81,80,83,52,66,30,68,73])\n",
    "\n",
    "gradient_descent(x,y)"
   ]
  }
 ],
 "metadata": {
  "kernelspec": {
   "display_name": "Python 3",
   "language": "python",
   "name": "python3"
  },
  "language_info": {
   "codemirror_mode": {
    "name": "ipython",
    "version": 3
   },
   "file_extension": ".py",
   "mimetype": "text/x-python",
   "name": "python",
   "nbconvert_exporter": "python",
   "pygments_lexer": "ipython3",
   "version": "3.7.6"
  }
 },
 "nbformat": 4,
 "nbformat_minor": 4
}
