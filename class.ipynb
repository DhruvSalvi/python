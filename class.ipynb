{
  "nbformat": 4,
  "nbformat_minor": 0,
  "metadata": {
    "colab": {
      "name": "Untitled1.ipynb",
      "provenance": [],
      "authorship_tag": "ABX9TyPNBxUAKdfl7s7uf1ZeLfYT",
      "include_colab_link": true
    },
    "kernelspec": {
      "name": "python3",
      "display_name": "Python 3"
    },
    "language_info": {
      "name": "python"
    }
  },
  "cells": [
    {
      "cell_type": "markdown",
      "metadata": {
        "id": "view-in-github",
        "colab_type": "text"
      },
      "source": [
        "<a href=\"https://colab.research.google.com/github/DhruvSalvi/python/blob/main/class.ipynb\" target=\"_parent\"><img src=\"https://colab.research.google.com/assets/colab-badge.svg\" alt=\"Open In Colab\"/></a>"
      ]
    },
    {
      "cell_type": "code",
      "metadata": {
        "id": "01TOQ3cLKJjo",
        "outputId": "0bfc66d1-9d70-488c-83fa-cd02f0c970ff",
        "colab": {
          "base_uri": "https://localhost:8080/"
        }
      },
      "source": [
        "class employee:\n",
        "  def __init__(self,id,name):\n",
        "    self.id = id\n",
        "    self.name = name\n",
        "\n",
        "  def display(self):\n",
        "    print(f\"ID:{self.id},\\nName:{self.name}\")\n",
        "\n",
        "emp = employee(1, \"coder\")\n",
        "emp.display()\n",
        "\n",
        "del emp.id\n",
        "try:\n",
        "  print(emp.id)\n",
        "except:\n",
        "  print(\"Id is not define\")\n",
        "\n",
        "del emp\n",
        "try:\n",
        "  print(\"data deleted.\",emp.display)\n",
        "except:\n",
        "  print(\"Data not found.\")"
      ],
      "execution_count": 21,
      "outputs": [
        {
          "output_type": "stream",
          "text": [
            "ID:1,\n",
            "Name:coder\n",
            "Id is not define\n",
            "Data not found.\n"
          ],
          "name": "stdout"
        }
      ]
    }
  ]
}