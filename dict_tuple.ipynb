{
  "nbformat": 4,
  "nbformat_minor": 0,
  "metadata": {
    "colab": {
      "name": "Untitled1.ipynb",
      "provenance": [],
      "authorship_tag": "ABX9TyNgrpCMT29Qdav1qcOAle0x",
      "include_colab_link": true
    },
    "kernelspec": {
      "name": "python3",
      "display_name": "Python 3"
    },
    "language_info": {
      "name": "python"
    }
  },
  "cells": [
    {
      "cell_type": "markdown",
      "metadata": {
        "id": "view-in-github",
        "colab_type": "text"
      },
      "source": [
        "<a href=\"https://colab.research.google.com/github/DhruvSalvi/python/blob/main/dict_tuple.ipynb\" target=\"_parent\"><img src=\"https://colab.research.google.com/assets/colab-badge.svg\" alt=\"Open In Colab\"/></a>"
      ]
    },
    {
      "cell_type": "markdown",
      "metadata": {
        "id": "l3LHA-eA0aae"
      },
      "source": [
        "Country\tPopulation  ||\n",
        "China\t143  ||\n",
        "India\t136  ||\n",
        "USA\t32    ||\n",
        "Germany\t21   "
      ]
    },
    {
      "cell_type": "code",
      "metadata": {
        "id": "v6ouKtC70bOn",
        "outputId": "9ab83cbd-be84-4849-eb39-2ed516370a1c",
        "colab": {
          "base_uri": "https://localhost:8080/"
        }
      },
      "source": [
        "pop = {\"china\":143, \"india\":136, \"usa\":32, \"germany\":21}\n",
        "def add():\n",
        "    country=input(\"Enter country name to add:\")\n",
        "    country=country.lower()\n",
        "    if country in pop:\n",
        "        print(\"Country already exist in our dataset. Terminating\")\n",
        "        return\n",
        "    p=input(f\"Enter population for {country}\")\n",
        "    p=float(p)\n",
        "    pop[country]=p # Adds new key value pair to dictionary\n",
        "    print_all()\n",
        "\n",
        "def remove():\n",
        "    country = input(\"Enter country name to remove:\")\n",
        "    country = country.lower()\n",
        "    if country not in pop:\n",
        "        print(\"Country doesn't exist in our dataset. Terminating\")\n",
        "        return\n",
        "    del pop[country]\n",
        "    print_all()\n",
        "\n",
        "def query():\n",
        "    country = input(\"Enter country name to query:\")\n",
        "    country = country.lower()\n",
        "    if country not in pop:\n",
        "        print(\"Country doesn't exist in our dataset. Terminating\")\n",
        "        return\n",
        "    print(f\"Population of {country} is: {pop[country]} crore\")\n",
        "\n",
        "\n",
        "def print_all():\n",
        "    for country, p in pop.items():\n",
        "        print(f\"{country}==>{p}\")\n",
        "\n",
        "def main():\n",
        "    op=input(\"Enter operation (add, remove, query or print):\")\n",
        "    if op.lower() == 'add':\n",
        "        add()\n",
        "    elif op.lower() == 'remove':\n",
        "        remove()\n",
        "    elif op.lower() == 'query':\n",
        "        query()\n",
        "    elif op.lower() == 'print':\n",
        "        print_all()\n",
        "\n",
        "if __name__ == '__main__':\n",
        "    main()"
      ],
      "execution_count": 47,
      "outputs": [
        {
          "output_type": "stream",
          "text": [
            "Enter operation (add, remove, query or print):query\n",
            "Enter country name to query:india\n",
            "Population of india is: 136 crore\n"
          ],
          "name": "stdout"
        }
      ]
    },
    {
      "cell_type": "code",
      "metadata": {
        "id": "vf6dD4wwBpd0",
        "outputId": "1f429cf5-2e07-4262-879c-6d1565a8c444",
        "colab": {
          "base_uri": "https://localhost:8080/"
        }
      },
      "source": [
        "import statistics\n",
        "\n",
        "stocks = {\n",
        "    'info': [600,630,620],\n",
        "    'ril': [1430,1490,1567],\n",
        "    'mtl': [234,180,160]\n",
        "}\n",
        "\n",
        "def print_all():\n",
        "    for stock,price_list in stocks.items():\n",
        "        avg = statistics.mean(price_list)\n",
        "        print(f\"{stock} ==> {price_list} ==> avg: \",round(avg,2))\n",
        "\n",
        "\n",
        "def add():\n",
        "    s = input(\"Enter a stock ticker to add:\")\n",
        "    p = input(\"Enter price of this stock:\")\n",
        "    p=float(p)\n",
        "    if s in stocks:\n",
        "        stocks[s].append(p)\n",
        "    else:\n",
        "        stocks[s] = [p]\n",
        "    print_all()\n",
        "\n",
        "\n",
        "def main():\n",
        "    op=input(\"Enter operation (print, add or amend):\")\n",
        "    if op.lower() == 'print':\n",
        "        print_all()\n",
        "    elif op.lower() == 'add':\n",
        "        add()\n",
        "    else:\n",
        "        print(\"Unsupported operation:\",op)\n",
        "\n",
        "if __name__ == '__main__':\n",
        "    main()"
      ],
      "execution_count": 62,
      "outputs": [
        {
          "output_type": "stream",
          "text": [
            "Enter operation (print, add or amend):print\n",
            "info ==> [600, 630, 620] ==> avg:  616.67\n",
            "ril ==> [1430, 1490, 1567] ==> avg:  1495.67\n",
            "mtl ==> [234, 180, 160] ==> avg:  191.33\n"
          ],
          "name": "stdout"
        }
      ]
    },
    {
      "cell_type": "code",
      "metadata": {
        "id": "_Brzk5-jCYeN",
        "outputId": "c66b54c1-fbcd-44a6-aa24-8b8f9f87b258",
        "colab": {
          "base_uri": "https://localhost:8080/"
        }
      },
      "source": [
        "r=int(input(\"Enter the radius: \"))\n",
        "r=float(r)\n",
        "def circle_calc(r):\n",
        "    circumference = 2*3.14*r\n",
        "    diameter = 2*r\n",
        "    area = 3.14*(r**2)\n",
        "    return area, circumference, diameter\n",
        "\n",
        "a=circle_calc(r)\n",
        "print(a)"
      ],
      "execution_count": 72,
      "outputs": [
        {
          "output_type": "stream",
          "text": [
            "Enter the radius: 2\n",
            "(12.56, 12.56, 4.0)\n"
          ],
          "name": "stdout"
        }
      ]
    },
    {
      "cell_type": "code",
      "metadata": {
        "id": "RuK-sZhxF4Nb",
        "outputId": "730fa84b-12e3-4440-934c-ae329d02220c",
        "colab": {
          "base_uri": "https://localhost:8080/"
        }
      },
      "source": [
        "import math\n",
        "\n",
        "def circle_calc(r):\n",
        "    area=math.pi*(r**2)\n",
        "    circumference=2*math.pi*r\n",
        "    diameter=2*r\n",
        "    return area, circumference,diameter\n",
        "\n",
        "if __name__==\"__main__\":\n",
        "    r=input(\"Enter a radius:\")\n",
        "    r=float(r)\n",
        "    area, c, d = circle_calc(r)\n",
        "    print(f\"area {area}, circumference {c}, diameter {d}\")"
      ],
      "execution_count": 73,
      "outputs": [
        {
          "output_type": "stream",
          "text": [
            "Enter a radius:2\n",
            "area 12.566370614359172, circumference 12.566370614359172, diameter 4.0\n"
          ],
          "name": "stdout"
        }
      ]
    }
  ]
}