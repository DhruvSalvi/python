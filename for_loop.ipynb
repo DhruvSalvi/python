{
  "nbformat": 4,
  "nbformat_minor": 0,
  "metadata": {
    "colab": {
      "name": "Untitled1.ipynb",
      "provenance": [],
      "authorship_tag": "ABX9TyPhR5IEdEU5yG/f6RK7UxnL",
      "include_colab_link": true
    },
    "kernelspec": {
      "name": "python3",
      "display_name": "Python 3"
    },
    "language_info": {
      "name": "python"
    }
  },
  "cells": [
    {
      "cell_type": "markdown",
      "metadata": {
        "id": "view-in-github",
        "colab_type": "text"
      },
      "source": [
        "<a href=\"https://colab.research.google.com/github/DhruvSalvi/python/blob/main/for_loop.ipynb\" target=\"_parent\"><img src=\"https://colab.research.google.com/assets/colab-badge.svg\" alt=\"Open In Colab\"/></a>"
      ]
    },
    {
      "cell_type": "code",
      "metadata": {
        "colab": {
          "base_uri": "https://localhost:8080/"
        },
        "id": "LnuXeftJJ1Mc",
        "outputId": "d195d375-92c6-40b1-b2c6-b33c98a2299f"
      },
      "source": [
        "exp=[12,21,31,41,]\n",
        "x = 0\n",
        "for item in exp:\n",
        "  x = x + item\n",
        "print(x)"
      ],
      "execution_count": 78,
      "outputs": [
        {
          "output_type": "stream",
          "text": [
            "105\n"
          ],
          "name": "stdout"
        }
      ]
    },
    {
      "cell_type": "code",
      "metadata": {
        "colab": {
          "base_uri": "https://localhost:8080/"
        },
        "id": "h3cTIS0CN7nD",
        "outputId": "5fc1e2c2-4c24-47f7-a700-703906a49c13"
      },
      "source": [
        "result = [\"heads\",\"tails\",\"tails\",\"heads\",\"tails\",\"heads\",\"heads\",\"tails\",\"tails\",\"tails\"]\n",
        "x=0\n",
        "for i in result:\n",
        "  if i==\"heads\":\n",
        "    x +=1\n",
        "print(x)"
      ],
      "execution_count": 93,
      "outputs": [
        {
          "output_type": "stream",
          "text": [
            "4\n"
          ],
          "name": "stdout"
        }
      ]
    },
    {
      "cell_type": "code",
      "metadata": {
        "colab": {
          "base_uri": "https://localhost:8080/"
        },
        "id": "UxV56wN2OamC",
        "outputId": "63772126-258c-447a-8228-9ed98300c9b7"
      },
      "source": [
        "for i in range(1,11):\n",
        "  if i%2==0:\n",
        "    continue\n",
        "  print(i**2)"
      ],
      "execution_count": 81,
      "outputs": [
        {
          "output_type": "stream",
          "text": [
            "1\n",
            "9\n",
            "25\n",
            "49\n",
            "81\n"
          ],
          "name": "stdout"
        }
      ]
    },
    {
      "cell_type": "code",
      "metadata": {
        "colab": {
          "base_uri": "https://localhost:8080/"
        },
        "id": "L1oijpl9Ov3L",
        "outputId": "7bba483a-80c7-4283-ce8a-916a0d337385"
      },
      "source": [
        "expense_list = [2340, 2500, 2100, 3100, 2980]\n",
        "exp_month = ['jan','feb','march','april','may']\n",
        "a = int(input(\"Enter the amount: \"))\n",
        "\n",
        "month = -1\n",
        "for i in range(len(expense_list)):\n",
        "    if a == expense_list[i]:\n",
        "        month = i\n",
        "        break\n",
        "\n",
        "if month != -1:\n",
        "    print(f'You spent {a} in {exp_month[month]}')\n",
        "else:\n",
        "    print(f'You didn\\'t spend {a} in any month')\n"
      ],
      "execution_count": 100,
      "outputs": [
        {
          "output_type": "stream",
          "text": [
            "Enter the amount: 2500\n",
            "You spent 2500 in feb\n"
          ],
          "name": "stdout"
        }
      ]
    },
    {
      "cell_type": "code",
      "metadata": {
        "colab": {
          "base_uri": "https://localhost:8080/"
        },
        "id": "qxNeDIx4QF0J",
        "outputId": "fd9ec6bd-de26-445b-a103-cd2e52c93db5"
      },
      "source": [
        "for i in range(5):\n",
        "  print(f'you ran {i+1}')\n",
        "  tired=input(\"Are you tired?\")\n",
        "  if tired == 'yes':\n",
        "    break\n",
        "    \n",
        "if i == 4: # 4 because the index starts from 0\n",
        "    print(\"Hurray! You are a rock star! You just finished 5 km race!\")\n",
        "else:\n",
        "    print(\"You didn't finish 5 km race but hey congrats anyways! You still ran {i+1} miles\")\n",
        "  \n"
      ],
      "execution_count": 111,
      "outputs": [
        {
          "output_type": "stream",
          "text": [
            "you ran 1\n",
            "Are you tired?no\n",
            "you ran 2\n",
            "Are you tired?no\n",
            "you ran 3\n",
            "Are you tired?no\n",
            "you ran 4\n",
            "Are you tired?no\n",
            "you ran 5\n",
            "Are you tired?no\n",
            "Hurray! You are a rock star! You just finished 5 km race!\n"
          ],
          "name": "stdout"
        }
      ]
    },
    {
      "cell_type": "code",
      "metadata": {
        "colab": {
          "base_uri": "https://localhost:8080/"
        },
        "id": "wFPI8j0CQaB5",
        "outputId": "827e1600-ce3f-4b7b-b2eb-cec55664d5a1"
      },
      "source": [
        "for i in range(1,6):\n",
        "  s=''\n",
        "  for j in range(i):\n",
        "    s+='*'\n",
        "  print(s)"
      ],
      "execution_count": 113,
      "outputs": [
        {
          "output_type": "stream",
          "text": [
            "*\n",
            "**\n",
            "***\n",
            "****\n",
            "*****\n"
          ],
          "name": "stdout"
        }
      ]
    }
  ]
}