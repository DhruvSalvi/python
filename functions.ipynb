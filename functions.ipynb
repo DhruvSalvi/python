{
  "nbformat": 4,
  "nbformat_minor": 0,
  "metadata": {
    "colab": {
      "name": "Untitled1.ipynb",
      "provenance": [],
      "authorship_tag": "ABX9TyPovQKmA+aY+x7XPuLhse2Y",
      "include_colab_link": true
    },
    "kernelspec": {
      "name": "python3",
      "display_name": "Python 3"
    },
    "language_info": {
      "name": "python"
    }
  },
  "cells": [
    {
      "cell_type": "markdown",
      "metadata": {
        "id": "view-in-github",
        "colab_type": "text"
      },
      "source": [
        "<a href=\"https://colab.research.google.com/github/DhruvSalvi/python/blob/main/functions.ipynb\" target=\"_parent\"><img src=\"https://colab.research.google.com/assets/colab-badge.svg\" alt=\"Open In Colab\"/></a>"
      ]
    },
    {
      "cell_type": "code",
      "metadata": {
        "id": "SOjPtzR9nIM0",
        "outputId": "16613d1c-a16e-4270-c2d0-28c04098948e",
        "colab": {
          "base_uri": "https://localhost:8080/"
        }
      },
      "source": [
        "def calculate_area(para1,para2,shape=\"triangle\"):\n",
        "    if shape==\"triangle\":\n",
        "      area = (1/2)*para1*para2\n",
        "    elif shape==\"rectangle\":\n",
        "      area = para1*para2\n",
        "    else:\n",
        "      print(\"Error: Input shape is neither triangle nor rectangle.\")\n",
        "      area=None\n",
        "    return area\n",
        "\n",
        "\n",
        "a=int(input(\"Enter data: \"))\n",
        "b=int(input(\"Enter data: \"))\n",
        "c=input(\"Enter shape: \")\n",
        "d=calculate_area(a,b,c)\n",
        "print(d)\n"
      ],
      "execution_count": 33,
      "outputs": [
        {
          "output_type": "stream",
          "text": [
            "Enter data: 12\n",
            "Enter data: 3\n",
            "Enter shape: rectangle\n",
            "36\n"
          ],
          "name": "stdout"
        }
      ]
    },
    {
      "cell_type": "code",
      "metadata": {
        "id": "AuHKdhzrpCeM",
        "outputId": "d95599f1-aff7-443b-fc96-3c1f90d285cb",
        "colab": {
          "base_uri": "https://localhost:8080/"
        }
      },
      "source": [
        "num = int(input(\"Enter one number: \"))\n",
        "def pattern(num):\n",
        "  for i in range(num):\n",
        "    s=''\n",
        "    for j in range(i+1):\n",
        "      s+='*'\n",
        "    print(s)\n",
        "\n",
        "print(\"Print pattern with input= \",num)\n",
        "print_pattern(num) \n",
        "    \n",
        "  "
      ],
      "execution_count": 22,
      "outputs": [
        {
          "output_type": "stream",
          "text": [
            "Enter one number: 7\n",
            "Print pattern with input=  7\n",
            "*\n",
            "**\n",
            "***\n",
            "****\n",
            "*****\n",
            "******\n",
            "*******\n"
          ],
          "name": "stdout"
        }
      ]
    }
  ]
}