{
  "nbformat": 4,
  "nbformat_minor": 0,
  "metadata": {
    "colab": {
      "name": "Untitled1.ipynb",
      "provenance": [],
      "authorship_tag": "ABX9TyNvypPaL+xGWUlCICbNpORT",
      "include_colab_link": true
    },
    "kernelspec": {
      "name": "python3",
      "display_name": "Python 3"
    },
    "language_info": {
      "name": "python"
    }
  },
  "cells": [
    {
      "cell_type": "markdown",
      "metadata": {
        "id": "view-in-github",
        "colab_type": "text"
      },
      "source": [
        "<a href=\"https://colab.research.google.com/github/DhruvSalvi/python/blob/main/if_statement.ipynb\" target=\"_parent\"><img src=\"https://colab.research.google.com/assets/colab-badge.svg\" alt=\"Open In Colab\"/></a>"
      ]
    },
    {
      "cell_type": "code",
      "metadata": {
        "id": "iw1PH6n68era",
        "colab": {
          "base_uri": "https://localhost:8080/"
        },
        "outputId": "37ccb7a9-fae3-4953-f030-90c36602b7df"
      },
      "source": [
        "india = [\"mumbai\", \"banglore\", \"chennai\", \"delhi\"]\n",
        "usa = [\"california\",\"la\",\"lv\"]\n",
        "germany = [\"munich\", \"berlin\", \"humburg\"]\n",
        "\n",
        "city1=input(\"Enter the city name: \")\n",
        "city2=input(\"Enter the city name: \")\n",
        "\n",
        "if city1 and city2 in india:\n",
        "  print(\"India\")\n",
        "elif city1 and city2 in usa:\n",
        "  print(\"USA\")\n",
        "elif city1 and city2 in germany:\n",
        "  print(\"Germany\")\n",
        "else:\n",
        "  print(\"Not in our list\")"
      ],
      "execution_count": 63,
      "outputs": [
        {
          "output_type": "stream",
          "text": [
            "Enter the city name: la\n",
            "Enter the city name: lv\n",
            "USA\n"
          ],
          "name": "stdout"
        }
      ]
    },
    {
      "cell_type": "code",
      "metadata": {
        "colab": {
          "base_uri": "https://localhost:8080/"
        },
        "id": "uHheNkfLHuyu",
        "outputId": "7ec3b250-1dd2-4645-efa3-bd2ba106ac92"
      },
      "source": [
        "level=int(input(\"Enter your suger level: \"))\n",
        "if level>=80 and level<=100:\n",
        "  print(\"Sugar is low: \",level)\n",
        "elif level>100:\n",
        "  print(\"Sugar is normal: \",level)\n",
        "else:\n",
        "  print(\"Enter valid number.\")\n"
      ],
      "execution_count": 73,
      "outputs": [
        {
          "output_type": "stream",
          "text": [
            "Enter your suger level: 106\n",
            "Sugar is normal:  106\n"
          ],
          "name": "stdout"
        }
      ]
    }
  ]
}