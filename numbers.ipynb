{
  "nbformat": 4,
  "nbformat_minor": 0,
  "metadata": {
    "colab": {
      "name": "Untitled1.ipynb",
      "provenance": [],
      "authorship_tag": "ABX9TyOYS3dNWdO/Ki4F1BePDz9u",
      "include_colab_link": true
    },
    "kernelspec": {
      "name": "python3",
      "display_name": "Python 3"
    },
    "language_info": {
      "name": "python"
    }
  },
  "cells": [
    {
      "cell_type": "markdown",
      "metadata": {
        "id": "view-in-github",
        "colab_type": "text"
      },
      "source": [
        "<a href=\"https://colab.research.google.com/github/DhruvSalvi/python/blob/main/numbers.ipynb\" target=\"_parent\"><img src=\"https://colab.research.google.com/assets/colab-badge.svg\" alt=\"Open In Colab\"/></a>"
      ]
    },
    {
      "cell_type": "code",
      "metadata": {
        "colab": {
          "base_uri": "https://localhost:8080/"
        },
        "id": "VDmgddtvHb3T",
        "outputId": "97c185ab-8d4e-4767-8d6f-62a978396b67"
      },
      "source": [
        "long = 92\n",
        "wide = 48.8\n",
        "area = long * wide\n",
        "round(area,3)"
      ],
      "execution_count": 18,
      "outputs": [
        {
          "output_type": "execute_result",
          "data": {
            "text/plain": [
              "4489.6"
            ]
          },
          "metadata": {
            "tags": []
          },
          "execution_count": 18
        }
      ]
    },
    {
      "cell_type": "code",
      "metadata": {
        "colab": {
          "base_uri": "https://localhost:8080/"
        },
        "id": "41zzpChrHyjN",
        "outputId": "936a67db-bdd7-45d8-8459-6a04ed170ea9"
      },
      "source": [
        "total_packets = 9\n",
        "price = 1.49\n",
        "total_pur = total_packets * price\n",
        "me=20\n",
        "take=me-total_pur\n",
        "print(take)"
      ],
      "execution_count": 24,
      "outputs": [
        {
          "output_type": "stream",
          "text": [
            "6.59\n"
          ],
          "name": "stdout"
        }
      ]
    },
    {
      "cell_type": "code",
      "metadata": {
        "colab": {
          "base_uri": "https://localhost:8080/"
        },
        "id": "uxOIdxUqIhfW",
        "outputId": "65fe547c-4d30-4467-e0ae-6621a49f6f2e"
      },
      "source": [
        "tiles=5.5\n",
        "total = tiles ** 2\n",
        "price = total * 500\n",
        "print(price)"
      ],
      "execution_count": 23,
      "outputs": [
        {
          "output_type": "stream",
          "text": [
            "15125.0\n"
          ],
          "name": "stdout"
        }
      ]
    },
    {
      "cell_type": "code",
      "metadata": {
        "colab": {
          "base_uri": "https://localhost:8080/"
        },
        "id": "sEh2wc-GJQ8V",
        "outputId": "ec2f65ce-d0a0-47c0-ee96-6397f464dad0"
      },
      "source": [
        "num=17\n",
        "print('Binary of number 17 is:',format(num,'b'))"
      ],
      "execution_count": 25,
      "outputs": [
        {
          "output_type": "stream",
          "text": [
            "Binary of number 17 is: 10001\n"
          ],
          "name": "stdout"
        }
      ]
    }
  ]
}