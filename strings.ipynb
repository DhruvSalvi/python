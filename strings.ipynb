{
  "nbformat": 4,
  "nbformat_minor": 0,
  "metadata": {
    "colab": {
      "name": "Untitled1.ipynb",
      "provenance": [],
      "authorship_tag": "ABX9TyNNpdFxAeg6N05CRtAU0guO",
      "include_colab_link": true
    },
    "kernelspec": {
      "name": "python3",
      "display_name": "Python 3"
    },
    "language_info": {
      "name": "python"
    }
  },
  "cells": [
    {
      "cell_type": "markdown",
      "metadata": {
        "id": "view-in-github",
        "colab_type": "text"
      },
      "source": [
        "<a href=\"https://colab.research.google.com/github/DhruvSalvi/python/blob/main/strings.ipynb\" target=\"_parent\"><img src=\"https://colab.research.google.com/assets/colab-badge.svg\" alt=\"Open In Colab\"/></a>"
      ]
    },
    {
      "cell_type": "code",
      "metadata": {
        "colab": {
          "base_uri": "https://localhost:8080/"
        },
        "id": "VySRwVAnuzSQ",
        "outputId": "3e8445a4-9e36-43bd-84bb-6142436a959f"
      },
      "source": [
        "add1=\"shyam row house\"\n",
        "add2=\"Parvat gam\"\n",
        "add3=\"surat\"\n",
        "add=add1+ \"\\n\"+add2+\"\\n\"+add3\n",
        "print(add)"
      ],
      "execution_count": 2,
      "outputs": [
        {
          "output_type": "stream",
          "text": [
            "shyam row house\n",
            "Parvat gam\n",
            "surat\n"
          ],
          "name": "stdout"
        }
      ]
    },
    {
      "cell_type": "code",
      "metadata": {
        "colab": {
          "base_uri": "https://localhost:8080/"
        },
        "id": "w19cb58vwvzf",
        "outputId": "16539f70-d3c8-479e-c407-c8ef5f02733a"
      },
      "source": [
        "add='''Shyam row house\n",
        "Parvat gam\n",
        "surat'''\n",
        "print(add)"
      ],
      "execution_count": 3,
      "outputs": [
        {
          "output_type": "stream",
          "text": [
            "Shyam row house\n",
            "Parvat gam\n",
            "surat\n"
          ],
          "name": "stdout"
        }
      ]
    },
    {
      "cell_type": "code",
      "metadata": {
        "colab": {
          "base_uri": "https://localhost:8080/",
          "height": 35
        },
        "id": "fPOe-5t4w709",
        "outputId": "7a800f9c-fb54-4b85-c724-b9f586813b47"
      },
      "source": [
        "a=\"Earth revolves around the sun\"\n",
        "a[6:14]\n",
        "a[-4:]"
      ],
      "execution_count": 15,
      "outputs": [
        {
          "output_type": "execute_result",
          "data": {
            "application/vnd.google.colaboratory.intrinsic+json": {
              "type": "string"
            },
            "text/plain": [
              "' sun'"
            ]
          },
          "metadata": {
            "tags": []
          },
          "execution_count": 15
        }
      ]
    },
    {
      "cell_type": "code",
      "metadata": {
        "colab": {
          "base_uri": "https://localhost:8080/"
        },
        "id": "W7COb9fDyILu",
        "outputId": "131750a1-afd9-4181-8990-4c5fab4d3bbf"
      },
      "source": [
        "x=\"ladiesfinger\"\n",
        "y=\"apple\"\n",
        "print(\"I eat\"+ ' ' + x +' '+ \"and\"+ ' ' + y +' '+ \"everyday.\")"
      ],
      "execution_count": 24,
      "outputs": [
        {
          "output_type": "stream",
          "text": [
            "I eat ladiesfinger and apple everyday.\n"
          ],
          "name": "stdout"
        }
      ]
    },
    {
      "cell_type": "code",
      "metadata": {
        "colab": {
          "base_uri": "https://localhost:8080/"
        },
        "id": "C1-FO68RzXC1",
        "outputId": "b5ec7e75-7eec-430b-ff4f-5e54d633c168"
      },
      "source": [
        " s='maine 200 banana khaye'\n",
        " print(s.replace('200 banana','10 samosa'))"
      ],
      "execution_count": 25,
      "outputs": [
        {
          "output_type": "stream",
          "text": [
            "maine 10 samosa khaye\n"
          ],
          "name": "stdout"
        }
      ]
    }
  ]
}