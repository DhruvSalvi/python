{
  "nbformat": 4,
  "nbformat_minor": 0,
  "metadata": {
    "colab": {
      "name": "Untitled1.ipynb",
      "provenance": [],
      "authorship_tag": "ABX9TyMDcHkWdfaZfHm+m1RP1XXi",
      "include_colab_link": true
    },
    "kernelspec": {
      "name": "python3",
      "display_name": "Python 3"
    },
    "language_info": {
      "name": "python"
    }
  },
  "cells": [
    {
      "cell_type": "markdown",
      "metadata": {
        "id": "view-in-github",
        "colab_type": "text"
      },
      "source": [
        "<a href=\"https://colab.research.google.com/github/DhruvSalvi/python/blob/main/variables.ipynb\" target=\"_parent\"><img src=\"https://colab.research.google.com/assets/colab-badge.svg\" alt=\"Open In Colab\"/></a>"
      ]
    },
    {
      "cell_type": "code",
      "metadata": {
        "colab": {
          "base_uri": "https://localhost:8080/"
        },
        "id": "Rr9FIZWVCOfM",
        "outputId": "f3c80a48-730d-4a5f-f5b0-9de2070185b9"
      },
      "source": [
        "k=5\n",
        "print(k)"
      ],
      "execution_count": 2,
      "outputs": [
        {
          "output_type": "stream",
          "text": [
            "5\n"
          ],
          "name": "stdout"
        }
      ]
    },
    {
      "cell_type": "code",
      "metadata": {
        "colab": {
          "base_uri": "https://localhost:8080/"
        },
        "id": "7_YQEYw5CjAy",
        "outputId": "676174ef-387a-42b5-a40a-fb901ea0eddd"
      },
      "source": [
        "boy=2000\n",
        "d=2021\n",
        "age=d-boy\n",
        "print(age)"
      ],
      "execution_count": 5,
      "outputs": [
        {
          "output_type": "stream",
          "text": [
            "21\n"
          ],
          "name": "stdout"
        }
      ]
    },
    {
      "cell_type": "code",
      "metadata": {
        "colab": {
          "base_uri": "https://localhost:8080/"
        },
        "id": "7rTfy9Z2C-Hv",
        "outputId": "de87c5b7-834d-456b-95a2-7bb2064f15d4"
      },
      "source": [
        "fname = \"Dhruv\"\n",
        "lname = \"Salvi\"\n",
        "middle = \"jitendra\"\n",
        "print(\"My full name is:\",lname,fname,middle)"
      ],
      "execution_count": 6,
      "outputs": [
        {
          "output_type": "stream",
          "text": [
            "My full name is: Salvi Dhruv jitendra\n"
          ],
          "name": "stdout"
        }
      ]
    },
    {
      "cell_type": "code",
      "metadata": {
        "id": "Pf0bcklmDmUQ"
      },
      "source": [
        "_nation =2\n",
        "record1 = 2\n",
        "record_one = 2"
      ],
      "execution_count": 15,
      "outputs": []
    },
    {
      "cell_type": "markdown",
      "metadata": {
        "id": "MyTgzebaEEc3"
      },
      "source": [
        "**1record** : variable can't start with number ||\n",
        "**record-one record^one** : don't use operater in variable   ||\n",
        "**continue**: Don't use keyword"
      ]
    }
  ]
}